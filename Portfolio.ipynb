{
 "cells": [
  {
   "cell_type": "markdown",
   "metadata": {},
   "source": [
    "# Welcome to my site!\n",
    "\n",
    "My name is Xiaozhu Zhang and I am a third-year student majoring in statistics at University of California, Davis.\n",
    "\n",
    "## Major Courses\n",
    "*  STA 108 Regression analysis\n",
    "*  STA 106 Analysis of Variance\n",
    "*  STA 137 Applied Time Series Analysis\n",
    "*  STA 141A Statistical Data Science(R)\n",
    "*  STA 141B Statistical Data Technologies(Python)\n",
    "*  STA 131A Probability Theory\n",
    "*  STA 131B Math Statistics(currently taking)\n",
    "*  STA 138 Analysis of Categorical Data(currently taking)"
   ]
  }
 ],
 "metadata": {
  "kernelspec": {
   "display_name": "Python 2",
   "language": "python",
   "name": "python2"
  },
  "language_info": {
   "codemirror_mode": {
    "name": "ipython",
    "version": 2
   },
   "file_extension": ".py",
   "mimetype": "text/x-python",
   "name": "python",
   "nbconvert_exporter": "python",
   "pygments_lexer": "ipython2",
   "version": "2.7.14"
  }
 },
 "nbformat": 4,
 "nbformat_minor": 2
}
